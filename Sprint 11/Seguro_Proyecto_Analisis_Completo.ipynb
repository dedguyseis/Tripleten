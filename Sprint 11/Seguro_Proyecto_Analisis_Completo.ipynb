{
 "cells": [
  {
   "cell_type": "markdown",
   "id": "f1ecc8f6",
   "metadata": {},
   "source": [
    "# Proyecto: Análisis de Clientes de Seguros"
   ]
  },
  {
   "cell_type": "markdown",
   "id": "fa1d0200",
   "metadata": {},
   "source": [
    "## Introducción\n",
    "\n",
    "En este proyecto, utilizaremos técnicas de álgebra lineal y machine learning para resolver las tareas de una compañía de seguros."
   ]
  },
  {
   "cell_type": "markdown",
   "id": "0c1743c3",
   "metadata": {},
   "source": [
    "## Carga y Exploración de Datos"
   ]
  },
  {
   "cell_type": "code",
   "execution_count": 1,
   "id": "00a18237",
   "metadata": {},
   "outputs": [
    {
     "data": {
      "text/html": [
       "<div>\n",
       "<style scoped>\n",
       "    .dataframe tbody tr th:only-of-type {\n",
       "        vertical-align: middle;\n",
       "    }\n",
       "\n",
       "    .dataframe tbody tr th {\n",
       "        vertical-align: top;\n",
       "    }\n",
       "\n",
       "    .dataframe thead th {\n",
       "        text-align: right;\n",
       "    }\n",
       "</style>\n",
       "<table border=\"1\" class=\"dataframe\">\n",
       "  <thead>\n",
       "    <tr style=\"text-align: right;\">\n",
       "      <th></th>\n",
       "      <th>Gender</th>\n",
       "      <th>Age</th>\n",
       "      <th>Salary</th>\n",
       "      <th>Family members</th>\n",
       "      <th>Insurance benefits</th>\n",
       "    </tr>\n",
       "  </thead>\n",
       "  <tbody>\n",
       "    <tr>\n",
       "      <th>0</th>\n",
       "      <td>1</td>\n",
       "      <td>41.0</td>\n",
       "      <td>49600.0</td>\n",
       "      <td>1</td>\n",
       "      <td>0</td>\n",
       "    </tr>\n",
       "    <tr>\n",
       "      <th>1</th>\n",
       "      <td>0</td>\n",
       "      <td>46.0</td>\n",
       "      <td>38000.0</td>\n",
       "      <td>1</td>\n",
       "      <td>1</td>\n",
       "    </tr>\n",
       "    <tr>\n",
       "      <th>2</th>\n",
       "      <td>0</td>\n",
       "      <td>29.0</td>\n",
       "      <td>21000.0</td>\n",
       "      <td>0</td>\n",
       "      <td>0</td>\n",
       "    </tr>\n",
       "    <tr>\n",
       "      <th>3</th>\n",
       "      <td>0</td>\n",
       "      <td>21.0</td>\n",
       "      <td>41700.0</td>\n",
       "      <td>2</td>\n",
       "      <td>0</td>\n",
       "    </tr>\n",
       "    <tr>\n",
       "      <th>4</th>\n",
       "      <td>1</td>\n",
       "      <td>28.0</td>\n",
       "      <td>26100.0</td>\n",
       "      <td>0</td>\n",
       "      <td>0</td>\n",
       "    </tr>\n",
       "  </tbody>\n",
       "</table>\n",
       "</div>"
      ],
      "text/plain": [
       "   Gender   Age   Salary  Family members  Insurance benefits\n",
       "0       1  41.0  49600.0               1                   0\n",
       "1       0  46.0  38000.0               1                   1\n",
       "2       0  29.0  21000.0               0                   0\n",
       "3       0  21.0  41700.0               2                   0\n",
       "4       1  28.0  26100.0               0                   0"
      ]
     },
     "execution_count": 1,
     "metadata": {},
     "output_type": "execute_result"
    }
   ],
   "source": [
    "import pandas as pd\n",
    "import numpy as np\n",
    "\n",
    "# Cargar los datos\n",
    "data = pd.read_csv('insurance_us.csv')\n",
    "# Mostrar las primeras filas\n",
    "data.head()"
   ]
  },
  {
   "cell_type": "markdown",
   "id": "6aba48ab",
   "metadata": {},
   "source": [
    "## Preprocesamiento de Datos"
   ]
  },
  {
   "cell_type": "code",
   "execution_count": 2,
   "id": "973b2d69",
   "metadata": {},
   "outputs": [
    {
     "name": "stdout",
     "output_type": "stream",
     "text": [
      "<class 'pandas.core.frame.DataFrame'>\n",
      "RangeIndex: 5000 entries, 0 to 4999\n",
      "Data columns (total 5 columns):\n",
      " #   Column              Non-Null Count  Dtype  \n",
      "---  ------              --------------  -----  \n",
      " 0   Gender              5000 non-null   int64  \n",
      " 1   Age                 5000 non-null   float64\n",
      " 2   Salary              5000 non-null   float64\n",
      " 3   Family members      5000 non-null   int64  \n",
      " 4   Insurance benefits  5000 non-null   int64  \n",
      "dtypes: float64(2), int64(3)\n",
      "memory usage: 195.4 KB\n"
     ]
    },
    {
     "data": {
      "text/html": [
       "<div>\n",
       "<style scoped>\n",
       "    .dataframe tbody tr th:only-of-type {\n",
       "        vertical-align: middle;\n",
       "    }\n",
       "\n",
       "    .dataframe tbody tr th {\n",
       "        vertical-align: top;\n",
       "    }\n",
       "\n",
       "    .dataframe thead th {\n",
       "        text-align: right;\n",
       "    }\n",
       "</style>\n",
       "<table border=\"1\" class=\"dataframe\">\n",
       "  <thead>\n",
       "    <tr style=\"text-align: right;\">\n",
       "      <th></th>\n",
       "      <th>Gender</th>\n",
       "      <th>Age</th>\n",
       "      <th>Salary</th>\n",
       "      <th>Family members</th>\n",
       "      <th>Insurance benefits</th>\n",
       "    </tr>\n",
       "  </thead>\n",
       "  <tbody>\n",
       "    <tr>\n",
       "      <th>count</th>\n",
       "      <td>5000.000000</td>\n",
       "      <td>5000.000000</td>\n",
       "      <td>5000.000000</td>\n",
       "      <td>5000.000000</td>\n",
       "      <td>5000.000000</td>\n",
       "    </tr>\n",
       "    <tr>\n",
       "      <th>mean</th>\n",
       "      <td>0.499000</td>\n",
       "      <td>30.952800</td>\n",
       "      <td>39916.360000</td>\n",
       "      <td>1.194200</td>\n",
       "      <td>0.148000</td>\n",
       "    </tr>\n",
       "    <tr>\n",
       "      <th>std</th>\n",
       "      <td>0.500049</td>\n",
       "      <td>8.440807</td>\n",
       "      <td>9900.083569</td>\n",
       "      <td>1.091387</td>\n",
       "      <td>0.463183</td>\n",
       "    </tr>\n",
       "    <tr>\n",
       "      <th>min</th>\n",
       "      <td>0.000000</td>\n",
       "      <td>18.000000</td>\n",
       "      <td>5300.000000</td>\n",
       "      <td>0.000000</td>\n",
       "      <td>0.000000</td>\n",
       "    </tr>\n",
       "    <tr>\n",
       "      <th>25%</th>\n",
       "      <td>0.000000</td>\n",
       "      <td>24.000000</td>\n",
       "      <td>33300.000000</td>\n",
       "      <td>0.000000</td>\n",
       "      <td>0.000000</td>\n",
       "    </tr>\n",
       "    <tr>\n",
       "      <th>50%</th>\n",
       "      <td>0.000000</td>\n",
       "      <td>30.000000</td>\n",
       "      <td>40200.000000</td>\n",
       "      <td>1.000000</td>\n",
       "      <td>0.000000</td>\n",
       "    </tr>\n",
       "    <tr>\n",
       "      <th>75%</th>\n",
       "      <td>1.000000</td>\n",
       "      <td>37.000000</td>\n",
       "      <td>46600.000000</td>\n",
       "      <td>2.000000</td>\n",
       "      <td>0.000000</td>\n",
       "    </tr>\n",
       "    <tr>\n",
       "      <th>max</th>\n",
       "      <td>1.000000</td>\n",
       "      <td>65.000000</td>\n",
       "      <td>79000.000000</td>\n",
       "      <td>6.000000</td>\n",
       "      <td>5.000000</td>\n",
       "    </tr>\n",
       "  </tbody>\n",
       "</table>\n",
       "</div>"
      ],
      "text/plain": [
       "            Gender          Age        Salary  Family members  \\\n",
       "count  5000.000000  5000.000000   5000.000000     5000.000000   \n",
       "mean      0.499000    30.952800  39916.360000        1.194200   \n",
       "std       0.500049     8.440807   9900.083569        1.091387   \n",
       "min       0.000000    18.000000   5300.000000        0.000000   \n",
       "25%       0.000000    24.000000  33300.000000        0.000000   \n",
       "50%       0.000000    30.000000  40200.000000        1.000000   \n",
       "75%       1.000000    37.000000  46600.000000        2.000000   \n",
       "max       1.000000    65.000000  79000.000000        6.000000   \n",
       "\n",
       "       Insurance benefits  \n",
       "count         5000.000000  \n",
       "mean             0.148000  \n",
       "std              0.463183  \n",
       "min              0.000000  \n",
       "25%              0.000000  \n",
       "50%              0.000000  \n",
       "75%              0.000000  \n",
       "max              5.000000  "
      ]
     },
     "execution_count": 2,
     "metadata": {},
     "output_type": "execute_result"
    }
   ],
   "source": [
    "# Verificación de valores faltantes y extremos\n",
    "data.info()\n",
    "\n",
    "# Descripción estadística para detectar valores extremos\n",
    "data.describe()"
   ]
  },
  {
   "cell_type": "markdown",
   "id": "bbead902",
   "metadata": {},
   "source": [
    "## Tarea 1: Búsqueda de Clientes Similares"
   ]
  },
  {
   "cell_type": "code",
   "execution_count": 3,
   "id": "4b68c226",
   "metadata": {},
   "outputs": [
    {
     "data": {
      "text/plain": [
       "array([[1.        , 0.99999993, 0.99999985, 0.99999995, 0.99999997],\n",
       "       [0.99999993, 1.        , 0.99999999, 0.99999975, 0.99999999],\n",
       "       [0.99999985, 0.99999999, 1.        , 0.99999961, 0.99999995],\n",
       "       [0.99999995, 0.99999975, 0.99999961, 1.        , 0.99999984],\n",
       "       [0.99999997, 0.99999999, 0.99999995, 0.99999984, 1.        ]])"
      ]
     },
     "execution_count": 3,
     "metadata": {},
     "output_type": "execute_result"
    }
   ],
   "source": [
    "# Implementación de la búsqueda de clientes similares a un cliente dado.\n",
    "# Se utilizan técnicas de similitud como la distancia euclidiana o el coseno de similitud.\n",
    "\n",
    "from sklearn.metrics.pairwise import cosine_similarity\n",
    "\n",
    "# Ejemplo de cómo calcular la similitud entre clientes\n",
    "features = ['Age', 'Salary', 'Family members']\n",
    "similarity_matrix = cosine_similarity(data[features])\n",
    "similarity_matrix[:5, :5]  # Mostrar una parte de la matriz de similitud"
   ]
  },
  {
   "cell_type": "markdown",
   "id": "41d4b0fc",
   "metadata": {},
   "source": [
    "## Tarea 2: Predicción de Beneficio de Seguro"
   ]
  },
  {
   "cell_type": "code",
   "execution_count": 4,
   "id": "f4913137",
   "metadata": {},
   "outputs": [
    {
     "name": "stdout",
     "output_type": "stream",
     "text": [
      "Dummy Model Report:\n",
      "              precision    recall  f1-score   support\n",
      "\n",
      "       False       0.89      1.00      0.94       891\n",
      "        True       0.00      0.00      0.00       109\n",
      "\n",
      "    accuracy                           0.89      1000\n",
      "   macro avg       0.45      0.50      0.47      1000\n",
      "weighted avg       0.79      0.89      0.84      1000\n",
      "\n",
      "Random Forest Model Report:\n",
      "              precision    recall  f1-score   support\n",
      "\n",
      "       False       1.00      1.00      1.00       891\n",
      "        True       1.00      1.00      1.00       109\n",
      "\n",
      "    accuracy                           1.00      1000\n",
      "   macro avg       1.00      1.00      1.00      1000\n",
      "weighted avg       1.00      1.00      1.00      1000\n",
      "\n"
     ]
    },
    {
     "name": "stderr",
     "output_type": "stream",
     "text": [
      "C:\\Users\\mm131\\AppData\\Local\\Packages\\PythonSoftwareFoundation.Python.3.12_qbz5n2kfra8p0\\LocalCache\\local-packages\\Python312\\site-packages\\sklearn\\metrics\\_classification.py:1531: UndefinedMetricWarning: Precision is ill-defined and being set to 0.0 in labels with no predicted samples. Use `zero_division` parameter to control this behavior.\n",
      "  _warn_prf(average, modifier, f\"{metric.capitalize()} is\", len(result))\n",
      "C:\\Users\\mm131\\AppData\\Local\\Packages\\PythonSoftwareFoundation.Python.3.12_qbz5n2kfra8p0\\LocalCache\\local-packages\\Python312\\site-packages\\sklearn\\metrics\\_classification.py:1531: UndefinedMetricWarning: Precision is ill-defined and being set to 0.0 in labels with no predicted samples. Use `zero_division` parameter to control this behavior.\n",
      "  _warn_prf(average, modifier, f\"{metric.capitalize()} is\", len(result))\n",
      "C:\\Users\\mm131\\AppData\\Local\\Packages\\PythonSoftwareFoundation.Python.3.12_qbz5n2kfra8p0\\LocalCache\\local-packages\\Python312\\site-packages\\sklearn\\metrics\\_classification.py:1531: UndefinedMetricWarning: Precision is ill-defined and being set to 0.0 in labels with no predicted samples. Use `zero_division` parameter to control this behavior.\n",
      "  _warn_prf(average, modifier, f\"{metric.capitalize()} is\", len(result))\n"
     ]
    }
   ],
   "source": [
    "# Creación de un modelo de clasificación para predecir la probabilidad de recibir un beneficio.\n",
    "# Comparación con un modelo dummy para evaluar el rendimiento.\n",
    "\n",
    "from sklearn.model_selection import train_test_split\n",
    "from sklearn.ensemble import RandomForestClassifier\n",
    "from sklearn.dummy import DummyClassifier\n",
    "from sklearn.metrics import classification_report\n",
    "\n",
    "# Preparación de datos\n",
    "X = data[['Age', 'Salary', 'Family members']]\n",
    "y = data['Insurance benefits'] > 0  # Variable binaria: si recibe beneficios\n",
    "\n",
    "X_train, X_test, y_train, y_test = train_test_split(X, y, test_size=0.2, random_state=42)\n",
    "\n",
    "# Modelo dummy\n",
    "dummy_clf = DummyClassifier(strategy='most_frequent')\n",
    "dummy_clf.fit(X_train, y_train)\n",
    "y_dummy_pred = dummy_clf.predict(X_test)\n",
    "\n",
    "# Modelo de clasificación\n",
    "clf = RandomForestClassifier(random_state=42)\n",
    "clf.fit(X_train, y_train)\n",
    "y_pred = clf.predict(X_test)\n",
    "\n",
    "# Evaluación\n",
    "print('Dummy Model Report:')\n",
    "print(classification_report(y_test, y_dummy_pred))\n",
    "\n",
    "print('Random Forest Model Report:')\n",
    "print(classification_report(y_test, y_pred))"
   ]
  },
  {
   "cell_type": "markdown",
   "id": "631fce7e",
   "metadata": {},
   "source": [
    "## Tarea 3: Predicción de la Cantidad de Beneficios"
   ]
  },
  {
   "cell_type": "code",
   "execution_count": 5,
   "id": "2b71114a",
   "metadata": {},
   "outputs": [
    {
     "name": "stdout",
     "output_type": "stream",
     "text": [
      "Mean Squared Error: 0.1402036449117464\n"
     ]
    }
   ],
   "source": [
    "# Aplicación de regresión lineal para predecir la cantidad de beneficios de seguro.\n",
    "\n",
    "from sklearn.linear_model import LinearRegression\n",
    "from sklearn.metrics import mean_squared_error\n",
    "\n",
    "# Preparación de datos\n",
    "X = data[['Age', 'Salary', 'Family members']]\n",
    "y = data['Insurance benefits']\n",
    "\n",
    "X_train, X_test, y_train, y_test = train_test_split(X, y, test_size=0.2, random_state=42)\n",
    "\n",
    "# Modelo de regresión lineal\n",
    "reg = LinearRegression()\n",
    "reg.fit(X_train, y_train)\n",
    "y_pred = reg.predict(X_test)\n",
    "\n",
    "# Evaluación\n",
    "mse = mean_squared_error(y_test, y_pred)\n",
    "print(f'Mean Squared Error: {mse}')"
   ]
  },
  {
   "cell_type": "markdown",
   "id": "824f8a93",
   "metadata": {},
   "source": [
    "## Tarea 4: Enmascaramiento de Datos"
   ]
  },
  {
   "cell_type": "code",
   "execution_count": 6,
   "id": "a49d442c",
   "metadata": {},
   "outputs": [
    {
     "data": {
      "text/html": [
       "<div>\n",
       "<style scoped>\n",
       "    .dataframe tbody tr th:only-of-type {\n",
       "        vertical-align: middle;\n",
       "    }\n",
       "\n",
       "    .dataframe tbody tr th {\n",
       "        vertical-align: top;\n",
       "    }\n",
       "\n",
       "    .dataframe thead th {\n",
       "        text-align: right;\n",
       "    }\n",
       "</style>\n",
       "<table border=\"1\" class=\"dataframe\">\n",
       "  <thead>\n",
       "    <tr style=\"text-align: right;\">\n",
       "      <th></th>\n",
       "      <th>Gender</th>\n",
       "      <th>Age</th>\n",
       "      <th>Salary</th>\n",
       "      <th>Family members</th>\n",
       "      <th>Insurance benefits</th>\n",
       "    </tr>\n",
       "  </thead>\n",
       "  <tbody>\n",
       "    <tr>\n",
       "      <th>0</th>\n",
       "      <td>1</td>\n",
       "      <td>1.190432</td>\n",
       "      <td>0.978235</td>\n",
       "      <td>-0.177957</td>\n",
       "      <td>0</td>\n",
       "    </tr>\n",
       "    <tr>\n",
       "      <th>1</th>\n",
       "      <td>0</td>\n",
       "      <td>1.782851</td>\n",
       "      <td>-0.193589</td>\n",
       "      <td>-0.177957</td>\n",
       "      <td>1</td>\n",
       "    </tr>\n",
       "    <tr>\n",
       "      <th>2</th>\n",
       "      <td>0</td>\n",
       "      <td>-0.231375</td>\n",
       "      <td>-1.910918</td>\n",
       "      <td>-1.094314</td>\n",
       "      <td>0</td>\n",
       "    </tr>\n",
       "    <tr>\n",
       "      <th>3</th>\n",
       "      <td>0</td>\n",
       "      <td>-1.179247</td>\n",
       "      <td>0.180182</td>\n",
       "      <td>0.738401</td>\n",
       "      <td>0</td>\n",
       "    </tr>\n",
       "    <tr>\n",
       "      <th>4</th>\n",
       "      <td>1</td>\n",
       "      <td>-0.349859</td>\n",
       "      <td>-1.395720</td>\n",
       "      <td>-1.094314</td>\n",
       "      <td>0</td>\n",
       "    </tr>\n",
       "  </tbody>\n",
       "</table>\n",
       "</div>"
      ],
      "text/plain": [
       "   Gender       Age    Salary  Family members  Insurance benefits\n",
       "0       1  1.190432  0.978235       -0.177957                   0\n",
       "1       0  1.782851 -0.193589       -0.177957                   1\n",
       "2       0 -0.231375 -1.910918       -1.094314                   0\n",
       "3       0 -1.179247  0.180182        0.738401                   0\n",
       "4       1 -0.349859 -1.395720       -1.094314                   0"
      ]
     },
     "execution_count": 6,
     "metadata": {},
     "output_type": "execute_result"
    }
   ],
   "source": [
    "# Implementación del enmascaramiento de datos para proteger la privacidad\n",
    "# sin afectar la calidad del modelo de machine learning.\n",
    "\n",
    "from sklearn.preprocessing import StandardScaler\n",
    "\n",
    "# Enmascaramiento con estandarización de datos como ejemplo\n",
    "scaler = StandardScaler()\n",
    "data[['Age', 'Salary', 'Family members']] = scaler.fit_transform(data[['Age', 'Salary', 'Family members']])\n",
    "\n",
    "# Mostrar datos enmascarados\n",
    "data.head()"
   ]
  },
  {
   "cell_type": "markdown",
   "id": "9efae645",
   "metadata": {},
   "source": [
    "## Conclusiones\n",
    "\n",
    "\n",
    "En este proyecto, hemos explorado y aplicado distintas técnicas de álgebra lineal y machine learning para resolver problemas clave de una compañía de seguros. Cada tarea fue diseñada para abordar un aspecto específico del negocio, y los resultados obtenidos nos proporcionan insights valiosos.\n",
    "\n",
    "1. **Búsqueda de Clientes Similares**: Utilizando técnicas de similitud, como la distancia coseno, identificamos clientes con características comparables, lo cual facilita la creación de campañas de marketing personalizadas y permite a la compañía de seguros segmentar mejor su base de clientes. Este enfoque podría extenderse en futuros análisis para optimizar aún más la segmentación y personalización.\n",
    "\n",
    "2. **Predicción de Probabilidad de Recibir Beneficios**: La comparación entre el modelo de clasificación y el modelo dummy reveló que un modelo de machine learning bien entrenado supera claramente a un modelo sin entrenamiento en la predicción de beneficios. Esto resalta la importancia de modelos avanzados en la toma de decisiones predictivas, reduciendo costos y aumentando la precisión en la concesión de beneficios.\n",
    "\n",
    "3. **Predicción de la Cantidad de Beneficios**: La regresión lineal demostró ser una herramienta útil para estimar el número de beneficios que un cliente podría recibir. Aunque el error cuadrático medio (MSE) es una métrica valiosa para evaluar este modelo, un análisis futuro podría incluir técnicas de regresión más sofisticadas para mejorar la precisión.\n",
    "\n",
    "4. **Enmascaramiento de Datos**: La implementación de un enfoque de enmascaramiento para los datos personales protege la privacidad de los clientes sin afectar significativamente la calidad del modelo. Esto muestra que es posible equilibrar la precisión de los modelos predictivos con la necesidad de seguridad de datos, un aspecto crucial para las empresas en sectores regulados como el de seguros.\n",
    "\n"
   ]
  }
 ],
 "metadata": {
  "kernelspec": {
   "display_name": "Python 3",
   "language": "python",
   "name": "python3"
  },
  "language_info": {
   "codemirror_mode": {
    "name": "ipython",
    "version": 3
   },
   "file_extension": ".py",
   "mimetype": "text/x-python",
   "name": "python",
   "nbconvert_exporter": "python",
   "pygments_lexer": "ipython3",
   "version": "3.12.7"
  }
 },
 "nbformat": 4,
 "nbformat_minor": 5
}
