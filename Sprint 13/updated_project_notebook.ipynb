{
 "cells": [
  {
   "cell_type": "markdown",
   "metadata": {},
   "source": [
    "# Descripción del proyecto\n",
    "\n",
    "La compañía Sweet Lift Taxi ha recopilado datos históricos sobre pedidos de taxis en los aeropuertos. Para atraer a más conductores durante las horas pico, necesitamos predecir la cantidad de pedidos de taxis para la próxima hora. Construye un modelo para dicha predicción.\n",
    "\n",
    "La métrica RECM en el conjunto de prueba no debe ser superior a 48.\n",
    "\n",
    "## Instrucciones del proyecto.\n",
    "\n",
    "1. Descarga los datos y haz el remuestreo por una hora.\n",
    "2. Analiza los datos\n",
    "3. Entrena diferentes modelos con diferentes hiperparámetros. La muestra de prueba debe ser el 10% del conjunto de datos inicial.4. Prueba los datos usando la muestra de prueba y proporciona una conclusión.\n",
    "\n",
    "## Descripción de los datos\n",
    "\n",
    "Los datos se almacenan en el archivo `taxi.csv`. \t\n",
    "El número de pedidos está en la columna `num_orders`."
   ]
  },
  {
   "cell_type": "code",
   "execution_count": null,
   "id": "3f672b20",
   "metadata": {},
   "outputs": [],
   "source": [
    "\n",
    "# Cargar las librerías necesarias\n",
    "import pandas as pd\n",
    "import numpy as np\n",
    "from sklearn.model_selection import train_test_split\n",
    "from sklearn.ensemble import RandomForestRegressor\n",
    "from sklearn.linear_model import LinearRegression\n",
    "from sklearn.metrics import mean_squared_error\n",
    "from math import sqrt\n",
    "import matplotlib.pyplot as plt\n",
    "\n",
    "# Cargar los datos\n",
    "taxi_data = pd.read_csv('taxi.csv')\n",
    "\n"
   ]
  },
  {
   "cell_type": "code",
   "execution_count": null,
   "metadata": {},
   "outputs": [],
   "source": [
    "\n",
    "# Convertir la columna 'datetime' a tipo datetime y establecerla como índice\n",
    "taxi_data['datetime'] = pd.to_datetime(taxi_data['datetime'])\n",
    "taxi_data.set_index('datetime', inplace=True)\n",
    "\n",
    "# Remuestrear los datos en intervalos de una hora\n",
    "taxi_data_hourly = taxi_data.resample('H').sum()\n",
    "\n",
    "# Visualización inicial de la serie temporal\n",
    "plt.figure(figsize=(10, 5))\n",
    "plt.plot(taxi_data_hourly.index, taxi_data_hourly['num_orders'], label='Pedidos por hora')\n",
    "plt.xlabel('Fecha')\n",
    "plt.ylabel('Número de pedidos')\n",
    "plt.title('Pedidos de taxi por hora')\n",
    "plt.legend()\n",
    "plt.show()"
   ]
  },
  {
   "cell_type": "code",
   "execution_count": null,
   "id": "d6c357af",
   "metadata": {},
   "outputs": [],
   "source": [
    "\n",
    "# Dividir los datos en entrenamiento y prueba (90% - 10%)\n",
    "train_data, test_data = train_test_split(taxi_data_hourly, test_size=0.1, shuffle=False)\n",
    "\n",
    "# Separar características y etiquetas\n",
    "X_train = np.array(range(len(train_data))).reshape(-1, 1)\n",
    "y_train = train_data['num_orders'].values\n",
    "X_test = np.array(range(len(train_data), len(train_data) + len(test_data))).reshape(-1, 1)\n",
    "y_test = test_data['num_orders'].values\n",
    "\n",
    "\n"
   ]
  },
  {
   "cell_type": "code",
   "execution_count": null,
   "metadata": {},
   "outputs": [],
   "source": [
    "# Entrenar diferentes modelos y evaluar\n",
    "models = {\n",
    "    'Linear Regression': LinearRegression(),\n",
    "    'Random Forest': RandomForestRegressor(n_estimators=100, random_state=42)\n",
    "}\n",
    "\n",
    "results = {}\n",
    "for model_name, model in models.items():\n",
    "    model.fit(X_train, y_train)\n",
    "    predictions = model.predict(X_test)\n",
    "    rmse = sqrt(mean_squared_error(y_test, predictions))\n",
    "    results[model_name] = rmse\n",
    "\n",
    "# Resultados de la métrica RMSE\n",
    "results"
   ]
  },
  {
   "cell_type": "code",
   "execution_count": null,
   "id": "1ba162b1",
   "metadata": {},
   "outputs": [],
   "source": [
    "\n",
    "# Mostrar el mejor modelo según la métrica RMSE\n",
    "best_model = min(results, key=results.get)\n",
    "print(f\"El mejor modelo fue {best_model} con un RMSE de {results[best_model]:.2f} en el conjunto de prueba.\")\n"
   ]
  }
 ],
 "metadata": {
  "kernelspec": {
   "display_name": "Python 3",
   "language": "python",
   "name": "python3"
  },
  "language_info": {
   "codemirror_mode": {
    "name": "ipython",
    "version": 3
   },
   "file_extension": ".py",
   "mimetype": "text/x-python",
   "name": "python",
   "nbconvert_exporter": "python",
   "pygments_lexer": "ipython3",
   "version": "3.12.7"
  },
  "toc": {
   "base_numbering": 1,
   "nav_menu": {},
   "number_sections": true,
   "sideBar": true,
   "skip_h1_title": true,
   "title_cell": "Table of Contents",
   "title_sidebar": "Contents",
   "toc_cell": false,
   "toc_position": {},
   "toc_section_display": true,
   "toc_window_display": false
  }
 },
 "nbformat": 4,
 "nbformat_minor": 2
}
