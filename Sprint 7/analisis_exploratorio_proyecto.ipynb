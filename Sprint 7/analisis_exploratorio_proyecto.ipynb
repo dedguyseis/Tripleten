{
 "cells": [
  {
   "cell_type": "markdown",
   "id": "f244281b",
   "metadata": {},
   "source": [
    "# Análisis Exploratorio de Datos y Prueba de Hipótesis"
   ]
  },
  {
   "cell_type": "markdown",
   "id": "910a8b03",
   "metadata": {},
   "source": [
    "\n",
    "Este proyecto contiene un análisis exploratorio de datos y una prueba de hipótesis utilizando tres datasets de viajes en taxi en Chicago:\n",
    "\n",
    "1. **project_sql_result_01.csv**: Datos de viajes por compañía de taxis.\n",
    "2. **project_sql_result_04.csv**: Datos de viajes finalizados por barrio.\n",
    "3. **project_sql_result_07.csv**: Datos de viajes desde el Loop hasta el Aeropuerto Internacional O'Hare.\n"
   ]
  },
  {
   "cell_type": "code",
   "execution_count": null,
   "id": "0156c8b9",
   "metadata": {},
   "outputs": [],
   "source": [
    "\n",
    "import pandas as pd\n",
    "import matplotlib.pyplot as plt\n",
    "\n",
    "# Cargar los datasets\n",
    "file_path_01 = \"project_sql_result_01.csv\"\n",
    "file_path_04 = \"project_sql_result_04.csv\"\n",
    "file_path_07 = \"project_sql_result_07.csv\"\n",
    "\n",
    "# Leer los archivos CSV\n",
    "df_01 = pd.read_csv(file_path_01)\n",
    "df_04 = pd.read_csv(file_path_04)\n",
    "df_07 = pd.read_csv(file_path_07)\n",
    "\n",
    "# Visualizar las primeras filas de cada dataset\n",
    "df_01.head(), df_04.head(), df_07.head()\n"
   ]
  },
  {
   "cell_type": "code",
   "execution_count": null,
   "id": "44166883",
   "metadata": {},
   "outputs": [],
   "source": [
    "\n",
    "# Revisar los tipos de datos\n",
    "print(\"Tipos de datos de df_01:\")\n",
    "print(df_01.info())\n",
    "\n",
    "print(\"Tipos de datos de df_04:\")\n",
    "print(df_04.info())\n",
    "\n",
    "print(\"Tipos de datos de df_07:\")\n",
    "print(df_07.info())\n",
    "\n",
    "# Convertir 'start_ts' a datetime\n",
    "df_07['start_ts'] = pd.to_datetime(df_07['start_ts'])\n"
   ]
  },
  {
   "cell_type": "code",
   "execution_count": null,
   "id": "71dd3ab4",
   "metadata": {},
   "outputs": [],
   "source": [
    "\n",
    "# Identificar los 10 principales barrios en términos de finalización de viajes\n",
    "top_10_neighborhoods = df_04.sort_values(by='average_trips', ascending=False).head(10)\n",
    "\n",
    "# Gráfico: Los 10 barrios principales por promedio de finalizaciones de viaje\n",
    "plt.figure(figsize=(12, 6))\n",
    "plt.bar(top_10_neighborhoods['dropoff_location_name'], top_10_neighborhoods['average_trips'], color='skyblue')\n",
    "plt.xticks(rotation=45, ha='right')\n",
    "plt.xlabel('Barrios de Chicago')\n",
    "plt.ylabel('Promedio de viajes terminados')\n",
    "plt.title('Top 10 barrios de Chicago por promedio de finalización de viajes en noviembre de 2017')\n",
    "plt.show()\n"
   ]
  },
  {
   "cell_type": "code",
   "execution_count": null,
   "id": "b569ac7e",
   "metadata": {},
   "outputs": [],
   "source": [
    "\n",
    "# Identificar las 10 principales empresas de taxis por número de viajes\n",
    "top_10_companies = df_01.sort_values(by='trips_amount', ascending=False).head(10)\n",
    "\n",
    "# Gráfico: Empresas de taxis y número de viajes\n",
    "plt.figure(figsize=(12, 6))\n",
    "plt.bar(top_10_companies['company_name'], top_10_companies['trips_amount'], color='lightgreen')\n",
    "plt.xticks(rotation=45, ha='right')\n",
    "plt.xlabel('Empresas de Taxis')\n",
    "plt.ylabel('Número de Viajes')\n",
    "plt.title('Top 10 empresas de taxis por número de viajes (15-16 de noviembre de 2017)')\n",
    "plt.show()\n"
   ]
  },
  {
   "cell_type": "code",
   "execution_count": null,
   "id": "979b5880",
   "metadata": {},
   "outputs": [],
   "source": [
    "\n",
    "# Crear una nueva columna con el día de la semana\n",
    "df_07['weekday'] = df_07['start_ts'].dt.day_name()\n",
    "\n",
    "# Filtrar los viajes que solo ocurrieron en sábados\n",
    "saturday_trips = df_07[df_07['weekday'] == 'Saturday']\n",
    "\n",
    "# Separar los viajes en sábados lluviosos y no lluviosos\n",
    "rainy_saturdays = saturday_trips[saturday_trips['weather_conditions'] == 'Rain']\n",
    "non_rainy_saturdays = saturday_trips[saturday_trips['weather_conditions'] != 'Rain']\n",
    "\n",
    "# Calcular la duración promedio de los viajes en sábados lluviosos y no lluviosos\n",
    "rainy_duration_mean = rainy_saturdays['duration_seconds'].mean()\n",
    "non_rainy_duration_mean = non_rainy_saturdays['duration_seconds'].mean()\n",
    "\n",
    "rainy_duration_mean, non_rainy_duration_mean\n"
   ]
  },
  {
   "cell_type": "markdown",
   "id": "13c286b7",
   "metadata": {},
   "source": [
    "\n",
    "### Conclusiones\n",
    "\n",
    "1. **Análisis Exploratorio**: \n",
    "   - Se identificaron los 10 principales barrios en términos de promedio de viajes finalizados. El barrio Loop fue el de mayor actividad.\n",
    "   - Flash Cab es la empresa de taxis con más viajes registrados en el período analizado.\n",
    "\n",
    "2. **Prueba de Hipótesis**:\n",
    "   - No se pudo probar la hipótesis de si la duración promedio de los viajes desde el Loop hasta el Aeropuerto O'Hare cambia en sábados lluviosos debido a la falta de datos de viajes en estas condiciones.\n"
   ]
  }
 ],
 "metadata": {},
 "nbformat": 4,
 "nbformat_minor": 5
}