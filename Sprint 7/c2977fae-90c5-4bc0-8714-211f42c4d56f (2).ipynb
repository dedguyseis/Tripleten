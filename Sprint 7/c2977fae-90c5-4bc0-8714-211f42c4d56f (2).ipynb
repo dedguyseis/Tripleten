{
 "cells": [
  {
   "cell_type": "markdown",
   "id": "b64df261",
   "metadata": {},
   "source": [
    "# ¡Hola Marcelo!\n",
    "\n",
    "Mi nombre es Ezequiel Ferrario, soy code reviewer en Tripleten y tengo el agrado de revisar el proyecto que entregaste.\n",
    "\n",
    "Para simular la dinámica de un ambiente de trabajo, si veo algún error, en primer instancia solo los señalaré, dándote la oportunidad de encontrarlos y corregirlos por tu cuenta. En un trabajo real, el líder de tu equipo hará una dinámica similar. En caso de que no puedas resolver la tarea, te daré una información más precisa en la próxima revisión.\n",
    "\n",
    "Encontrarás mis comentarios más abajo - **por favor, no los muevas, no los modifiques ni los borres**.\n",
    "\n",
    "¿Cómo lo voy a hacer? Voy a leer detenidamente cada una de las implementaciones que has llevado a cabo para cumplir con lo solicitado. Verás los comentarios de esta forma:\n",
    "\n",
    "<div class=\"alert alert-block alert-success\">\n",
    "<b>Comentario del revisor</b> <a class=\"tocSkip\"></a>\n",
    "\n",
    "Si todo está perfecto.\n",
    "</div>\n",
    "\n",
    "\n",
    "<div class=\"alert alert-block alert-warning\">\n",
    "<b>Comentario del revisor</b> <a class=\"tocSkip\"></a>\n",
    "\n",
    "Si tu código está bien pero se puede mejorar o hay algún detalle que le hace falta. Se aceptan uno o dos comentarios de este tipo en el borrador, pero si hay más, deberá hacer las correcciones. Es como una tarea de prueba al solicitar un trabajo: muchos pequeños errores pueden hacer que un candidato sea rechazado.\n",
    "</div>\n",
    "\n",
    "<div class=\"alert alert-block alert-danger\">\n",
    "\n",
    "<b>Comentario del revisor</b> <a class=\"tocSkip\"></a>\n",
    "\n",
    "Si de pronto hace falta algo o existe algún problema con tu código o conclusiones.\n",
    "</div>\n",
    "\n",
    "Puedes responderme de esta forma:\n",
    "\n",
    "<div class=\"alert alert-block alert-info\">\n",
    "<b>Respuesta del estudiante</b> <a class=\"tocSkip\"></a>\n",
    "\n",
    "Hola, muchas gracias por tus comentarios y la revisión.        \n",
    "</div>\n",
    "\n",
    "¡Empecemos!"
   ]
  },
  {
   "cell_type": "markdown",
   "id": "a7992302",
   "metadata": {},
   "source": [
    "------------\n",
    "\n",
    "<div class=\"alert alert-block alert-danger\">\n",
    "<b>Comentario general #2</b> <a class=\"tocSkip\"></a>\n",
    "\n",
    "Marcelo, en primer lugar recorda **no eliminar mis comentarios**, son una guia para ambos y es un punto necesario dejarlas\n",
    "    \n",
    " Entiendo que quizas hiciste las modificaciones sin el notebook donde estna mis correcciones pero tenelo en cuenta para la futura iteracion y proyectos.\n",
    "    \n",
    "  Asi, este trabajo esta ocmpleto y solo restaria corregir el tema de los graficos y la prueba estadistica.\n",
    "    \n",
    "  Espero tu correccion, saludos.\n",
    "</div>\n",
    "\n",
    "\n",
    "\n",
    "------------\n",
    "\n",
    "<div class=\"alert alert-block alert-danger\">\n",
    "\n",
    "<b>Comentario general #3</b> <a class=\"tocSkip\"></a>\n",
    "\n",
    "Marcelo, la prueba estadistica te quedo perfecta, me gusto mucho la minuciosidad de la misma.\n",
    "    \n",
    " Asi, el proyecto no lo puedo observar pero para que no pierdas la iteracion te corregir los ultimos detalles.\n",
    "    \n",
    " Por lo que corregido eso el proyecto estara aprobado.\n",
    "    \n",
    "  Quedo atento a tu correccion, saludos.\n",
    "\n",
    "\n",
    "</div>\n",
    "\n",
    "----------\n",
    "\n",
    "<div class=\"alert alert-block alert-success\">\n",
    "\n",
    "<b>Comentario general #4</b> <a class=\"tocSkip\"></a>\n",
    "\n",
    "Marcelo, los detalles restantes fueron muy bien abarcados y asi finalizas un excelente proyecto.\n",
    "    \n",
    "  Me encanto a nivel general como quedo y se destaca mucho la seccion de pruebas estadisticas.\n",
    "    \n",
    "  Por lo dicho, el proyecto queda **aprobado**.\n",
    "    \n",
    "  Exitos en lo que viene, saludos.\n",
    "</div>\n",
    "\n",
    "\n",
    "------"
   ]
  },
  {
   "cell_type": "markdown",
   "id": "16ba41df",
   "metadata": {},
   "source": [
    "\n",
    "<div class=\"alert alert-block alert-info\">\n",
    "<b>Respuesta del estudiante</b> <a class=\"tocSkip\"></a>\n",
    "\n",
    "Hola, una disculpa. Como empecé de 0 por algunos errores y para darle formato por eso ya no estan los comentarios, en esta iteracion si los dejo a la vista y realice las correciones solicitadas (esperando que sea de manera correcta)       \n",
    "</div>"
   ]
  },
  {
   "cell_type": "markdown",
   "id": "b4c2585c",
   "metadata": {},
   "source": [
    "\n",
    "# Análisis de Viajes en Taxi en Chicago\n",
    "\n",
    "Este proyecto analiza datos de viajes en taxi en Chicago utilizando tres datasets diferentes:\n",
    "1. **project_sql_result_01.csv**: Contiene información sobre el número de viajes por compañía de taxis en dos días de noviembre de 2017.\n",
    "2. **project_sql_result_04.csv**: Incluye el promedio de viajes que terminaron en diferentes barrios de Chicago durante noviembre de 2017.\n",
    "3. **project_sql_result_07.csv**: Proporciona información sobre viajes desde el Loop hasta el Aeropuerto Internacional O'Hare, con datos de tiempo y clima.\n",
    "\n",
    "### Objetivo del Proyecto\n",
    "El objetivo de este proyecto es estudiar los datos para:\n",
    "1. Entender la distribución de viajes por compañía y por ubicación.\n",
    "2. Visualizar los barrios con mayor número de finalizaciones de viajes.\n",
    "3. Probar la hipótesis: *\"La duración promedio de los viajes desde el Loop hasta el Aeropuerto Internacional O'Hare cambia los sábados lluviosos\"*.\n"
   ]
  },
  {
   "cell_type": "markdown",
   "id": "7d9c124a",
   "metadata": {},
   "source": [
    "\n",
    "# Tabla de Contenidos\n",
    "1. [Introducción](#introduccion)\n",
    "2. [Carga de Librerías y Datasets](#carga-de-datasets)\n",
    "3. [Exploración Inicial de Datos](#exploracion-de-datos)\n",
    "4. [Análisis y Visualización](#analisis-visualizacion)\n",
    "   1. [Análisis de Viajes por Compañía de Taxis](#viajes-compania)\n",
    "   2. [Análisis de Barrios con Mayor Número de Viajes](#barrios-viajes)\n",
    "5. [Prueba de Hipótesis](#prueba-hipotesis)\n",
    "6. [Conclusiones Generales](#conclusiones-generales)\n"
   ]
  },
  {
   "cell_type": "code",
   "execution_count": 1,
   "id": "aa0a1377",
   "metadata": {},
   "outputs": [],
   "source": [
    "\n",
    "# Importar librerías necesarias\n",
    "import pandas as pd\n",
    "from scipy.stats import ttest_ind, levene\n",
    "import matplotlib.pyplot as plt\n",
    "import seaborn as sns\n",
    "\n",
    "# Configurar estilos de gráficos\n",
    "plt.style.use('ggplot')\n"
   ]
  },
  {
   "cell_type": "code",
   "execution_count": 2,
   "id": "0e65e605",
   "metadata": {},
   "outputs": [],
   "source": [
    "#Leer los datasets\n",
    "df_01 = pd.read_csv(\"/datasets/project_sql_result_01.csv\")\n",
    "df_04 = pd.read_csv(\"/datasets/project_sql_result_04.csv\")\n",
    "df_07 = pd.read_csv(\"/datasets/project_sql_result_07.csv\")\n",
    "\n"
   ]
  },
  {
   "cell_type": "markdown",
   "id": "822cf08f",
   "metadata": {},
   "source": [
    "<div class=\"alert alert-block alert-danger\">\n",
    "\n",
    "<b>Comentario del revisor #3</b> <a class=\"tocSkip\"></a>\n",
    "\n",
    "En este caso no estas llamando bien a los directorios por lo que existe un error, a continuacion te dejo los correctos:\n",
    "\n",
    "```\n",
    "\"/datasets/project_sql_result_01.csv\"\n",
    "\"/datasets/project_sql_result_04.csv\"\n",
    "\"/datasets/project_sql_result_07.csv\"\n",
    "\n",
    "```\n",
    "\n",
    "</div>\n",
    "\n",
    "<div class=\"alert alert-block alert-success\">\n",
    "\n",
    "<b>Comentario del revisor #4</b> <a class=\"tocSkip\"></a>\n",
    "\n",
    "Corregido.\n",
    "\n",
    "</div>"
   ]
  },
  {
   "cell_type": "code",
   "execution_count": 3,
   "id": "fcc30adc",
   "metadata": {},
   "outputs": [
    {
     "data": {
      "text/html": [
       "<div>\n",
       "<style scoped>\n",
       "    .dataframe tbody tr th:only-of-type {\n",
       "        vertical-align: middle;\n",
       "    }\n",
       "\n",
       "    .dataframe tbody tr th {\n",
       "        vertical-align: top;\n",
       "    }\n",
       "\n",
       "    .dataframe thead th {\n",
       "        text-align: right;\n",
       "    }\n",
       "</style>\n",
       "<table border=\"1\" class=\"dataframe\">\n",
       "  <thead>\n",
       "    <tr style=\"text-align: right;\">\n",
       "      <th></th>\n",
       "      <th>company_name</th>\n",
       "      <th>trips_amount</th>\n",
       "    </tr>\n",
       "  </thead>\n",
       "  <tbody>\n",
       "    <tr>\n",
       "      <th>0</th>\n",
       "      <td>Flash Cab</td>\n",
       "      <td>19558</td>\n",
       "    </tr>\n",
       "    <tr>\n",
       "      <th>1</th>\n",
       "      <td>Taxi Affiliation Services</td>\n",
       "      <td>11422</td>\n",
       "    </tr>\n",
       "    <tr>\n",
       "      <th>2</th>\n",
       "      <td>Medallion Leasing</td>\n",
       "      <td>10367</td>\n",
       "    </tr>\n",
       "    <tr>\n",
       "      <th>3</th>\n",
       "      <td>Yellow Cab</td>\n",
       "      <td>9888</td>\n",
       "    </tr>\n",
       "    <tr>\n",
       "      <th>4</th>\n",
       "      <td>Taxi Affiliation Service Yellow</td>\n",
       "      <td>9299</td>\n",
       "    </tr>\n",
       "  </tbody>\n",
       "</table>\n",
       "</div>"
      ],
      "text/plain": [
       "                      company_name  trips_amount\n",
       "0                        Flash Cab         19558\n",
       "1        Taxi Affiliation Services         11422\n",
       "2                Medallion Leasing         10367\n",
       "3                       Yellow Cab          9888\n",
       "4  Taxi Affiliation Service Yellow          9299"
      ]
     },
     "metadata": {},
     "output_type": "display_data"
    },
    {
     "data": {
      "text/html": [
       "<div>\n",
       "<style scoped>\n",
       "    .dataframe tbody tr th:only-of-type {\n",
       "        vertical-align: middle;\n",
       "    }\n",
       "\n",
       "    .dataframe tbody tr th {\n",
       "        vertical-align: top;\n",
       "    }\n",
       "\n",
       "    .dataframe thead th {\n",
       "        text-align: right;\n",
       "    }\n",
       "</style>\n",
       "<table border=\"1\" class=\"dataframe\">\n",
       "  <thead>\n",
       "    <tr style=\"text-align: right;\">\n",
       "      <th></th>\n",
       "      <th>dropoff_location_name</th>\n",
       "      <th>average_trips</th>\n",
       "    </tr>\n",
       "  </thead>\n",
       "  <tbody>\n",
       "    <tr>\n",
       "      <th>0</th>\n",
       "      <td>Loop</td>\n",
       "      <td>10727.466667</td>\n",
       "    </tr>\n",
       "    <tr>\n",
       "      <th>1</th>\n",
       "      <td>River North</td>\n",
       "      <td>9523.666667</td>\n",
       "    </tr>\n",
       "    <tr>\n",
       "      <th>2</th>\n",
       "      <td>Streeterville</td>\n",
       "      <td>6664.666667</td>\n",
       "    </tr>\n",
       "    <tr>\n",
       "      <th>3</th>\n",
       "      <td>West Loop</td>\n",
       "      <td>5163.666667</td>\n",
       "    </tr>\n",
       "    <tr>\n",
       "      <th>4</th>\n",
       "      <td>O'Hare</td>\n",
       "      <td>2546.900000</td>\n",
       "    </tr>\n",
       "  </tbody>\n",
       "</table>\n",
       "</div>"
      ],
      "text/plain": [
       "  dropoff_location_name  average_trips\n",
       "0                  Loop   10727.466667\n",
       "1           River North    9523.666667\n",
       "2         Streeterville    6664.666667\n",
       "3             West Loop    5163.666667\n",
       "4                O'Hare    2546.900000"
      ]
     },
     "metadata": {},
     "output_type": "display_data"
    },
    {
     "data": {
      "text/html": [
       "<div>\n",
       "<style scoped>\n",
       "    .dataframe tbody tr th:only-of-type {\n",
       "        vertical-align: middle;\n",
       "    }\n",
       "\n",
       "    .dataframe tbody tr th {\n",
       "        vertical-align: top;\n",
       "    }\n",
       "\n",
       "    .dataframe thead th {\n",
       "        text-align: right;\n",
       "    }\n",
       "</style>\n",
       "<table border=\"1\" class=\"dataframe\">\n",
       "  <thead>\n",
       "    <tr style=\"text-align: right;\">\n",
       "      <th></th>\n",
       "      <th>start_ts</th>\n",
       "      <th>weather_conditions</th>\n",
       "      <th>duration_seconds</th>\n",
       "    </tr>\n",
       "  </thead>\n",
       "  <tbody>\n",
       "    <tr>\n",
       "      <th>0</th>\n",
       "      <td>2017-11-25 16:00:00</td>\n",
       "      <td>Good</td>\n",
       "      <td>2410.0</td>\n",
       "    </tr>\n",
       "    <tr>\n",
       "      <th>1</th>\n",
       "      <td>2017-11-25 14:00:00</td>\n",
       "      <td>Good</td>\n",
       "      <td>1920.0</td>\n",
       "    </tr>\n",
       "    <tr>\n",
       "      <th>2</th>\n",
       "      <td>2017-11-25 12:00:00</td>\n",
       "      <td>Good</td>\n",
       "      <td>1543.0</td>\n",
       "    </tr>\n",
       "    <tr>\n",
       "      <th>3</th>\n",
       "      <td>2017-11-04 10:00:00</td>\n",
       "      <td>Good</td>\n",
       "      <td>2512.0</td>\n",
       "    </tr>\n",
       "    <tr>\n",
       "      <th>4</th>\n",
       "      <td>2017-11-11 07:00:00</td>\n",
       "      <td>Good</td>\n",
       "      <td>1440.0</td>\n",
       "    </tr>\n",
       "  </tbody>\n",
       "</table>\n",
       "</div>"
      ],
      "text/plain": [
       "              start_ts weather_conditions  duration_seconds\n",
       "0  2017-11-25 16:00:00               Good            2410.0\n",
       "1  2017-11-25 14:00:00               Good            1920.0\n",
       "2  2017-11-25 12:00:00               Good            1543.0\n",
       "3  2017-11-04 10:00:00               Good            2512.0\n",
       "4  2017-11-11 07:00:00               Good            1440.0"
      ]
     },
     "metadata": {},
     "output_type": "display_data"
    }
   ],
   "source": [
    "\n",
    "# Mostrar las primeras filas de cada dataset\n",
    "display(df_01.head(), df_04.head(), df_07.head())"
   ]
  },
  {
   "cell_type": "code",
   "execution_count": 4,
   "id": "748b562b",
   "metadata": {},
   "outputs": [
    {
     "name": "stdout",
     "output_type": "stream",
     "text": [
      "Información del dataset 1 (Compañías de Taxis):\n",
      "       trips_amount\n",
      "count     64.000000\n",
      "mean    2145.484375\n",
      "std     3812.310186\n",
      "min        2.000000\n",
      "25%       20.750000\n",
      "50%      178.500000\n",
      "75%     2106.500000\n",
      "max    19558.000000 \n",
      "\n",
      "Información del dataset 2 (Promedio de Viajes por Barrios):\n",
      "       average_trips\n",
      "count      94.000000\n",
      "mean      599.953728\n",
      "std      1714.591098\n",
      "min         1.800000\n",
      "25%        14.266667\n",
      "50%        52.016667\n",
      "75%       298.858333\n",
      "max     10727.466667 \n",
      "\n",
      "Información del dataset 3 (Viajes desde Loop al Aeropuerto):\n",
      "       duration_seconds\n",
      "count       1068.000000\n",
      "mean        2071.731273\n",
      "std          769.461125\n",
      "min            0.000000\n",
      "25%         1438.250000\n",
      "50%         1980.000000\n",
      "75%         2580.000000\n",
      "max         7440.000000 \n",
      "\n"
     ]
    }
   ],
   "source": [
    "\n",
    "# Exploración inicial de datos\n",
    "print(\"Información del dataset 1 (Compañías de Taxis):\")\n",
    "print(df_01.describe(), \"\\n\")\n",
    "\n",
    "print(\"Información del dataset 2 (Promedio de Viajes por Barrios):\")\n",
    "print(df_04.describe(), \"\\n\")\n",
    "\n",
    "print(\"Información del dataset 3 (Viajes desde Loop al Aeropuerto):\")\n",
    "print(df_07.describe(), \"\\n\")\n"
   ]
  },
  {
   "cell_type": "code",
   "execution_count": 5,
   "id": "8c712f55",
   "metadata": {
    "scrolled": false
   },
   "outputs": [
    {
     "name": "stdout",
     "output_type": "stream",
     "text": [
      "\n",
      "Análisis del Dataset 1:\n",
      "\n",
      "Duplicados: 0\n",
      "Valores nulos por columna:\n",
      "company_name    0\n",
      "trips_amount    0\n",
      "dtype: int64\n",
      "\n",
      "Estadísticas básicas del dataset:\n",
      "                     company_name  trips_amount\n",
      "count                          64     64.000000\n",
      "unique                         64           NaN\n",
      "top     Dispatch Taxi Affiliation           NaN\n",
      "freq                            1           NaN\n",
      "mean                          NaN   2145.484375\n",
      "std                           NaN   3812.310186\n",
      "min                           NaN      2.000000\n",
      "25%                           NaN     20.750000\n",
      "50%                           NaN    178.500000\n",
      "75%                           NaN   2106.500000\n",
      "max                           NaN  19558.000000\n",
      "\n",
      "Tipos de datos de cada columna:\n",
      "company_name    object\n",
      "trips_amount     int64\n",
      "dtype: object\n",
      "------------------------------------------------------\n",
      "\n",
      "Análisis del Dataset 2:\n",
      "\n",
      "Duplicados: 0\n",
      "Valores nulos por columna:\n",
      "dropoff_location_name    0\n",
      "average_trips            0\n",
      "dtype: int64\n",
      "\n",
      "Estadísticas básicas del dataset:\n",
      "       dropoff_location_name  average_trips\n",
      "count                     94      94.000000\n",
      "unique                    94            NaN\n",
      "top                  Oakland            NaN\n",
      "freq                       1            NaN\n",
      "mean                     NaN     599.953728\n",
      "std                      NaN    1714.591098\n",
      "min                      NaN       1.800000\n",
      "25%                      NaN      14.266667\n",
      "50%                      NaN      52.016667\n",
      "75%                      NaN     298.858333\n",
      "max                      NaN   10727.466667\n",
      "\n",
      "Tipos de datos de cada columna:\n",
      "dropoff_location_name     object\n",
      "average_trips            float64\n",
      "dtype: object\n",
      "------------------------------------------------------\n",
      "\n",
      "Análisis del Dataset 3:\n",
      "\n",
      "Duplicados: 197\n",
      "Valores nulos por columna:\n",
      "start_ts              0\n",
      "weather_conditions    0\n",
      "duration_seconds      0\n",
      "dtype: int64\n",
      "\n",
      "Estadísticas básicas del dataset:\n",
      "                   start_ts weather_conditions  duration_seconds\n",
      "count                  1068               1068       1068.000000\n",
      "unique                   81                  2               NaN\n",
      "top     2017-11-11 10:00:00               Good               NaN\n",
      "freq                     48                888               NaN\n",
      "mean                    NaN                NaN       2071.731273\n",
      "std                     NaN                NaN        769.461125\n",
      "min                     NaN                NaN          0.000000\n",
      "25%                     NaN                NaN       1438.250000\n",
      "50%                     NaN                NaN       1980.000000\n",
      "75%                     NaN                NaN       2580.000000\n",
      "max                     NaN                NaN       7440.000000\n",
      "\n",
      "Tipos de datos de cada columna:\n",
      "start_ts               object\n",
      "weather_conditions     object\n",
      "duration_seconds      float64\n",
      "dtype: object\n",
      "------------------------------------------------------\n",
      "\n",
      "Resumen de Dataset 1:\n",
      "\n",
      "company_name    64\n",
      "trips_amount    56\n",
      "dtype: int64\n",
      "------------------------------------------------------\n",
      "\n",
      "Resumen de Dataset 2:\n",
      "\n",
      "dropoff_location_name    94\n",
      "average_trips            94\n",
      "dtype: int64\n",
      "------------------------------------------------------\n",
      "\n",
      "Resumen de Dataset 3:\n",
      "\n",
      "start_ts               81\n",
      "weather_conditions      2\n",
      "duration_seconds      495\n",
      "dtype: int64\n",
      "------------------------------------------------------\n"
     ]
    }
   ],
   "source": [
    "# Verificar duplicados y valores nulos en los datasets\n",
    "\n",
    "# Crear una lista con los datasets a analizar\n",
    "datasets = {'Dataset 1': df_01, 'Dataset 2': df_04, 'Dataset 3': df_07}\n",
    "\n",
    "for name, df in datasets.items():\n",
    "    print(f\"\\nAnálisis del {name}:\\n\")\n",
    "    \n",
    "    # Verificar duplicados\n",
    "    duplicados = df.duplicated().sum()\n",
    "    print(f\"Duplicados: {duplicados}\")\n",
    "    \n",
    "    # Verificar valores nulos\n",
    "    nulos = df.isnull().sum()\n",
    "    print(f\"Valores nulos por columna:\\n{nulos}\")\n",
    "    \n",
    "    # Mostrar estadísticas básicas\n",
    "    print(\"\\nEstadísticas básicas del dataset:\")\n",
    "    print(df.describe(include='all'))\n",
    "    \n",
    "    # Visualización de tipos de datos\n",
    "    print(\"\\nTipos de datos de cada columna:\")\n",
    "    print(df.dtypes)\n",
    "    \n",
    "    print(\"------------------------------------------------------\")\n",
    "\n",
    "# Mostrar resumen de valores únicos y datos en cada columna\n",
    "for name, df in datasets.items():\n",
    "    print(f\"\\nResumen de {name}:\\n\")\n",
    "    print(df.nunique())\n",
    "    print(\"------------------------------------------------------\")\n"
   ]
  },
  {
   "cell_type": "markdown",
   "id": "c6d721c7",
   "metadata": {},
   "source": [
    "### Explicación de los Resultados\n",
    "\n",
    "1. **Dataset 1: Datos de viajes por compañía de taxis**\n",
    "\n",
    "   - **Duplicados**: No se encontraron filas duplicadas, lo cual es positivo, ya que significa que no hay registros redundantes.\n",
    "   - **Valores nulos**: Ninguna columna contiene valores nulos, lo que indica que los datos están completos y listos para el análisis.\n",
    "   - **Estadísticas básicas**:\n",
    "     - Existen 64 compañías de taxis únicas (`company_name`), y cada una tiene un número de viajes reportado (`trips_amount`).\n",
    "     - El valor promedio de `trips_amount` es de aproximadamente 2145 viajes por compañía, con una gran desviación estándar de 3812 viajes, lo que indica una alta variabilidad entre las compañías.\n",
    "     - El rango de viajes varía entre un mínimo de 2 y un máximo de 19,558 viajes, sugiriendo que algunas compañías dominan el mercado.\n",
    "   - **Tipos de datos**: Correctos (`company_name` como `object` y `trips_amount` como `int64`).\n",
    "   \n",
    "   - **Resumen**:\n",
    "     - `company_name`: 64 valores únicos, indicando cada compañía es representada una sola vez.\n",
    "     - `trips_amount`: Solo 56 valores únicos, lo que indica que algunas compañías reportan la misma cantidad de viajes.\n",
    "\n",
    "2. **Dataset 2: Promedio de viajes que terminan en distintos barrios**\n",
    "\n",
    "   - **Duplicados**: No se encontraron filas duplicadas.\n",
    "   - **Valores nulos**: No se detectaron valores nulos, lo que implica que cada barrio tiene un valor correspondiente de `average_trips`.\n",
    "   - **Estadísticas básicas**:\n",
    "     - Existen 94 barrios diferentes en el dataset.\n",
    "     - El promedio de viajes por barrio es de 599, pero la desviación estándar es alta (1714 viajes), lo que sugiere que algunos barrios tienen significativamente más tráfico que otros.\n",
    "     - El rango va desde un mínimo de 1.8 viajes hasta un máximo de 10,727 viajes, con el barrio `Loop` como el más popular.\n",
    "   - **Tipos de datos**: Correctos (`dropoff_location_name` como `object` y `average_trips` como `float64`).\n",
    "   \n",
    "   - **Resumen**:\n",
    "     - Todos los valores en `dropoff_location_name` y `average_trips` son únicos, por lo que no hay valores repetidos en este dataset.\n",
    "\n",
    "3. **Dataset 3: Viajes desde el Loop al Aeropuerto Internacional O'Hare**\n",
    "\n",
    "   - **Duplicados**: Se encontraron 197 filas duplicadas, lo cual podría ser un problema. Podría significar registros redundantes o errores de datos.\n",
    "   - **Valores nulos**: No se encontraron valores nulos en ninguna columna.\n",
    "   - **Estadísticas básicas**:\n",
    "     - El dataset tiene datos de 1068 viajes realizados en sábados, con un promedio de duración de viaje de 2071 segundos (aproximadamente 34.5 minutos).\n",
    "     - `weather_conditions` contiene solo dos valores: `Good` y `Rain`.\n",
    "     - `day_of_week` es siempre `Saturday`, como se esperaba.\n",
    "   - **Tipos de datos**: Todos los tipos de datos son correctos.\n",
    "   \n",
    "   - **Resumen**:\n",
    "     - La columna `start_ts` tiene solo 81 valores únicos, lo que sugiere que hay múltiples viajes que inician a la misma hora.\n",
    "     - `duration_seconds` tiene 495 valores únicos, lo cual es razonable dada la naturaleza de los datos (tiempo de duración en segundos).\n",
    "     - `weather_conditions` solo tiene 2 valores, indicando que se registraron solo días con buen clima (`Good`) o lluviosos (`Rain`).\n",
    "\n",
    "### Conclusiones\n",
    "- **Dataset 1** y **Dataset 2** no presentan problemas importantes, ya que no tienen duplicados ni valores nulos.\n",
    "- **Dataset 3** tiene un problema con filas duplicadas. Se recomienda investigar por qué existen estas duplicaciones y eliminarlas si es necesario para evitar sesgos en el análisis.\n",
    "- Las estadísticas muestran alta variabilidad en todos los datasets, especialmente en el número de viajes por compañía y el número de finalizaciones en los barrios, lo que podría requerir un análisis más detallado para identificar patrones."
   ]
  },
  {
   "cell_type": "markdown",
   "id": "090593f2",
   "metadata": {},
   "source": [
    "<div class=\"alert alert-block alert-success\">\n",
    "<b>Comentario del revisor #2</b> <a class=\"tocSkip\"></a>\n",
    "\n",
    "Excelentes metodos utilizados y mejor aun observado todos los datasets.</div>\n"
   ]
  },
  {
   "cell_type": "code",
   "execution_count": 6,
   "id": "1f6a862c",
   "metadata": {},
   "outputs": [
    {
     "name": "stdout",
     "output_type": "stream",
     "text": [
      "\n",
      "Procesando Dataset 1...\n",
      "Duplicados antes de eliminación: 0\n",
      "Duplicados después de eliminación: 0\n",
      "Duplicados eliminados: 0\n",
      "\n",
      "Procesando Dataset 2...\n",
      "Duplicados antes de eliminación: 0\n",
      "Duplicados después de eliminación: 0\n",
      "Duplicados eliminados: 0\n",
      "\n",
      "Procesando Dataset 3...\n",
      "Duplicados antes de eliminación: 197\n",
      "Duplicados después de eliminación: 0\n",
      "Duplicados eliminados: 197\n"
     ]
    }
   ],
   "source": [
    "# Eliminar duplicados en cada uno de los datasets y mostrar los resultados\n",
    "datasets = {'Dataset 1': df_01, 'Dataset 2': df_04, 'Dataset 3': df_07}\n",
    "\n",
    "for name, df in datasets.items():\n",
    "    print(f\"\\nProcesando {name}...\")\n",
    "    \n",
    "    # Contar duplicados antes de eliminarlos\n",
    "    duplicates_before = df.duplicated().sum()\n",
    "    print(f\"Duplicados antes de eliminación: {duplicates_before}\")\n",
    "    \n",
    "    # Eliminar duplicados\n",
    "    df_cleaned = df.drop_duplicates()\n",
    "    \n",
    "    # Contar duplicados después de eliminarlos\n",
    "    duplicates_after = df_cleaned.duplicated().sum()\n",
    "    print(f\"Duplicados después de eliminación: {duplicates_after}\")\n",
    "    \n",
    "    # Mostrar la diferencia\n",
    "    print(f\"Duplicados eliminados: {duplicates_before - duplicates_after}\")\n",
    "    \n",
    "    # Asignar el dataframe limpio al original\n",
    "    if name == 'Dataset 1':\n",
    "        df_01 = df_cleaned\n",
    "    elif name == 'Dataset 2':\n",
    "        df_04 = df_cleaned\n",
    "    elif name == 'Dataset 3':\n",
    "        df_07 = df_cleaned\n",
    "\n",
    "# A\n"
   ]
  },
  {
   "cell_type": "markdown",
   "id": "47f30d6e",
   "metadata": {},
   "source": [
    "## Análisis y Visualización"
   ]
  },
  {
   "cell_type": "code",
   "execution_count": 7,
   "id": "1f946daf",
   "metadata": {},
   "outputs": [
    {
     "data": {
      "image/png": "[encoded data removed]",
      "text/plain": [
       "<Figure size 1200x600 with 1 Axes>"
      ]
     },
     "metadata": {},
     "output_type": "display_data"
    }
   ],
   "source": [
    "# Filtrar el top 10 por número de viajes\n",
    "top_10_df = df_01.nlargest(10, 'trips_amount')\n",
    "\n",
    "# Graficar el top 10\n",
    "plt.figure(figsize=(12, 6))\n",
    "plt.bar(top_10_df['company_name'], top_10_df['trips_amount'], color='skyblue')\n",
    "plt.xlabel('Company Name')\n",
    "plt.ylabel('Number of Trips')\n",
    "plt.title('Top 10 Taxi Companies by Number of Trips')\n",
    "plt.xticks(rotation=45, ha='right')\n",
    "plt.tight_layout()\n",
    "plt.show()\n"
   ]
  },
  {
   "cell_type": "markdown",
   "id": "e2646aa9",
   "metadata": {},
   "source": [
    "<div class=\"alert alert-block alert-danger\">\n",
    "<b>Comentario del revisor #2</b> <a class=\"tocSkip\"></a>\n",
    "\n",
    "El grafico no arroja nada.\n",
    "\n",
    "</div>\n",
    "<div class=\"alert alert-block alert-danger\">\n",
    "\n",
    "<b>Comentario del revisor #3</b> <a class=\"tocSkip\"></a>\n",
    "\n",
    "En este caso el grafico esta bien realizado y aporta buena informacion.\n",
    "\n",
    "A nuestro cliente le interesa el top 10, por lo que podes modificar este grafico para visualizar ese top 10 o dejarlo y crear un nuevo para que se puede visualizar ese top 10, de esa manera se eliminaria el ruido a la hora del analisis.</div>\n",
    "\n",
    "<div class=\"alert alert-block alert-success\">\n",
    "\n",
    "<b>Comentario del revisor #4</b> <a class=\"tocSkip\"></a>\n",
    "\n",
    "Corregido, perfecto.\n",
    "\n",
    "</div>"
   ]
  },
  {
   "cell_type": "markdown",
   "id": "4348cce7",
   "metadata": {},
   "source": [
    "Gráfico de Viajes por Compañía de Taxis (15-16 de Noviembre 2017):\n",
    "\n",
    "\n",
    "La gráfica ilustra la cantidad de viajes realizados por cada compañía de taxis durante los días 15 y 16 de noviembre.\n",
    "Conclusión:\n",
    "\n",
    "\n",
    "Flash Cab es, con diferencia, la compañía con el mayor número de viajes, superando a otras por un margen significativo. Esto indica que esta compañía tiene una fuerte presencia en el mercado y es probablemente una de las más preferidas por los usuarios.\n",
    "\n",
    "\n",
    "Las siguientes compañías (Taxi Affiliation Services y Medallion Leasing) tienen aproximadamente la mitad del número de viajes que Flash Cab, lo que sugiere una alta concentración del mercado en unas pocas empresas grandes.\n",
    "\n",
    "\n",
    "Hay una gran cantidad de compañías con un número muy reducido de viajes, lo cual podría indicar que son empresas más pequeñas o que operan en nichos específicos.\n",
    "\n",
    "\n",
    "La distribución desigual refleja la competencia en el mercado de taxis, donde unas pocas compañías dominan la mayoría de los viajes."
   ]
  },
  {
   "cell_type": "code",
   "execution_count": 8,
   "id": "5ea5bf3e",
   "metadata": {
    "scrolled": false
   },
   "outputs": [
    {
     "data": {
      "image/png": "[encoded data removed]",
      "text/plain": [
       "<Figure size 1200x600 with 1 Axes>"
      ]
     },
     "metadata": {},
     "output_type": "display_data"
    }
   ],
   "source": [
    "# Filtrar el top 10 por promedio de viajes\n",
    "top_10_df = df_04.nlargest(10, 'average_trips')\n",
    "\n",
    "# Graficar el top 10\n",
    "plt.figure(figsize=(12, 6))\n",
    "plt.bar(top_10_df['dropoff_location_name'], top_10_df['average_trips'], color='lightgreen')\n",
    "plt.xlabel('Dropoff Location')\n",
    "plt.ylabel('Average Trips')\n",
    "plt.title('Top 10 Dropoff Locations by Average Trips')\n",
    "plt.xticks(rotation=45, ha='right')\n",
    "plt.tight_layout()\n",
    "plt.show()\n"
   ]
  },
  {
   "cell_type": "markdown",
   "id": "8cca1b46",
   "metadata": {},
   "source": [
    "<div class=\"alert alert-block alert-danger\">\n",
    "<b>Comentario del revisor #2</b> <a class=\"tocSkip\"></a>\n",
    "\n",
    "El grafico no arroja nada.\n",
    "\n",
    "</div>\n",
    "\n",
    "\n",
    "<div class=\"alert alert-block alert-danger\">\n",
    "\n",
    "<b>Comentario del revisor #3</b> <a class=\"tocSkip\"></a>\n",
    "\n",
    "En este caso el grafico esta bien realizado y aporta buena informacion.\n",
    "\n",
    "A nuestro cliente le interesa el top 10, por lo que podes modificar este grafico para visualizar ese top 10 o dejarlo y crear un nuevo para que se puede visualizar ese top 10, de esa manera se eliminaria el ruido a la hora del analisis.</div>\n",
    "\n",
    "\n",
    "<div class=\"alert alert-block alert-success\">\n",
    "\n",
    "<b>Comentario del revisor #4</b> <a class=\"tocSkip\"></a>\n",
    "\n",
    "Corregido, muy bien.\n",
    "\n",
    "</div>"
   ]
  },
  {
   "cell_type": "markdown",
   "id": "8a9f0105",
   "metadata": {},
   "source": [
    "Gráfico de los 10 Barrios con Mayor Promedio de Finalización de Viajes (Noviembre 2017):\n",
    "\n",
    "\n",
    "La gráfica muestra los barrios con el mayor número promedio de viajes finalizados durante el mes de noviembre.\n",
    "Conclusión:\n",
    "\n",
    "\n",
    "El barrio Loop destaca como la ubicación con el mayor promedio de finalizaciones de viajes, con más de 10,000 viajes. Esto sugiere que Loop es una zona con alta demanda de taxis, probablemente debido a su actividad comercial y su papel como centro financiero de Chicago.\n",
    "\n",
    "\n",
    "River North y Streeterville siguen en popularidad, lo cual es consistente con su reputación como zonas turísticas y residenciales de alto nivel.\n",
    "\n",
    "\n",
    "El barrio O'Hare, a pesar de ser un aeropuerto y no una zona residencial, aparece en la quinta posición, indicando que es un punto de finalización importante para los viajeros.\n",
    "\n",
    "\n",
    "Los resultados sugieren que la mayoría de los viajes de taxi se concentran en zonas centrales y áreas turísticas, mientras que otros barrios tienen una menor demanda."
   ]
  },
  {
   "cell_type": "markdown",
   "id": "fec3aae5",
   "metadata": {},
   "source": [
    "## Prueba de Hipótesis"
   ]
  },
  {
   "cell_type": "code",
   "execution_count": 9,
   "id": "cfdde9e9",
   "metadata": {},
   "outputs": [
    {
     "name": "stdout",
     "output_type": "stream",
     "text": [
      "Tipo de datos de 'start_ts' después de la conversión: datetime64[ns]\n",
      "Valores únicos en 'weather_conditions': ['Good' 'Bad']\n",
      "Total de viajes en sábados con buen clima: 723\n",
      "Total de viajes en sábados con mal clima: 148\n",
      "Duración promedio en sábados con buen clima: 2032.253112033195 segundos\n",
      "Duración promedio en sábados con mal clima: 2409.2297297297296 segundos\n",
      "Cantidad de duraciones en sábados con buen clima: 723\n",
      "Cantidad de duraciones en sábados con mal clima: 148\n",
      "Resultado de la prueba de Levene: Estadístico=0.000586951625283602, P-valor=0.9806770360671218\n",
      "¿Las varianzas son iguales?: True\n",
      "Estadístico T: -5.427957689754561, P-valor: 7.397770692813658e-08\n",
      "Rechazamos la hipótesis nula: La duración promedio de los viajes cambia los sábados con buen y mal clima.\n"
     ]
    },
    {
     "name": "stderr",
     "output_type": "stream",
     "text": [
      "/tmp/ipykernel_81/3484912534.py:2: SettingWithCopyWarning: \n",
      "A value is trying to be set on a copy of a slice from a DataFrame.\n",
      "Try using .loc[row_indexer,col_indexer] = value instead\n",
      "\n",
      "See the caveats in the documentation: https://pandas.pydata.org/pandas-docs/stable/user_guide/indexing.html#returning-a-view-versus-a-copy\n",
      "  df_07['start_ts'] = pd.to_datetime(df_07['start_ts'], errors='coerce')\n"
     ]
    }
   ],
   "source": [
    "\n",
    "# Asegurar que la columna 'start_ts' está en formato datetime en el DataFrame 'df_07'\n",
    "df_07['start_ts'] = pd.to_datetime(df_07['start_ts'], errors='coerce')\n",
    "\n",
    "# Verificar si la columna 'start_ts' se convirtió correctamente\n",
    "print(\"Tipo de datos de 'start_ts' después de la conversión:\", df_07['start_ts'].dtype)\n",
    "\n",
    "# Eliminar filas donde 'start_ts' sea NaT (valores no convertidos)\n",
    "df_07 = df_07.dropna(subset=['start_ts'])\n",
    "\n",
    "# Crear una nueva columna con el día de la semana usando .loc para evitar el warning\n",
    "df_07.loc[:, 'weekday'] = df_07['start_ts'].dt.day_name()\n",
    "\n",
    "# Filtrar solo los viajes que ocurrieron en sábados\n",
    "saturday_trips = df_07[df_07['weekday'] == 'Saturday'].copy()  # Usar .copy() para evitar el warning al modificar `saturday_trips`\n",
    "\n",
    "# Convertir la columna 'weather_conditions' a tipo string usando .loc\n",
    "saturday_trips.loc[:, 'weather_conditions'] = saturday_trips['weather_conditions'].astype(str)\n",
    "\n",
    "# Revisar los valores únicos en 'weather_conditions' para asegurarse de que están correctos\n",
    "print(\"Valores únicos en 'weather_conditions':\", saturday_trips['weather_conditions'].unique())\n",
    "\n",
    "# Crear las máscaras para días con buen y mal clima ('Good' y 'Bad')\n",
    "good_weather = saturday_trips[saturday_trips['weather_conditions'] == 'Good']\n",
    "bad_weather = saturday_trips[saturday_trips['weather_conditions'] == 'Bad']\n",
    "\n",
    "# Revisar el número de registros en cada muestra\n",
    "print(f\"Total de viajes en sábados con buen clima: {len(good_weather)}\")\n",
    "print(f\"Total de viajes en sábados con mal clima: {len(bad_weather)}\")\n",
    "\n",
    "# Calcular la duración promedio de los viajes en cada grupo\n",
    "good_duration_mean = good_weather['duration_seconds'].mean()\n",
    "bad_duration_mean = bad_weather['duration_seconds'].mean()\n",
    "\n",
    "print(f\"Duración promedio en sábados con buen clima: {good_duration_mean} segundos\")\n",
    "print(f\"Duración promedio en sábados con mal clima: {bad_duration_mean} segundos\")\n",
    "\n",
    "# Verificar que no haya NaNs en las columnas a comparar para la prueba T-Student\n",
    "good_durations = good_weather['duration_seconds'].dropna()\n",
    "bad_durations = bad_weather['duration_seconds'].dropna()\n",
    "\n",
    "# Mostrar la cantidad de valores en cada muestra\n",
    "print(f\"Cantidad de duraciones en sábados con buen clima: {len(good_durations)}\")\n",
    "print(f\"Cantidad de duraciones en sábados con mal clima: {len(bad_durations)}\")\n",
    "\n",
    "# Si una de las muestras está vacía, imprimir mensaje y no ejecutar la prueba\n",
    "if len(good_durations) == 0 or len(bad_durations) == 0:\n",
    "    print(\"No se puede realizar la prueba T-Student porque una de las muestras está vacía.\")\n",
    "else:\n",
    "    # Realizar la prueba de Levene para comparar las varianzas de ambos grupos\n",
    "    stat, p_levene = levene(good_durations, bad_durations)\n",
    "    print(f\"Resultado de la prueba de Levene: Estadístico={stat}, P-valor={p_levene}\")\n",
    "\n",
    "    # Determinar si las varianzas son iguales basadas en un nivel de significancia\n",
    "    equal_var = p_levene >= 0.05  # Si p-valor >= 0.05, se asume varianza igual, caso contrario, varianzas desiguales.\n",
    "    print(f\"¿Las varianzas son iguales?: {equal_var}\")\n",
    "\n",
    "    # Realizar la prueba T-Student para comparar las dos muestras con el parámetro `equal_var`\n",
    "    t_stat, p_value = ttest_ind(good_durations, bad_durations, equal_var=equal_var)\n",
    "\n",
    "    # Mostrar el resultado de la prueba T-Student\n",
    "    print(f\"Estadístico T: {t_stat}, P-valor: {p_value}\")\n",
    "\n",
    "    # Determinar resultado basado en un nivel de significancia alfa\n",
    "    alpha = 0.05\n",
    "    if p_value < alpha:\n",
    "        print(\"Rechazamos la hipótesis nula: La duración promedio de los viajes cambia los sábados con buen y mal clima.\")\n",
    "    else:\n",
    "        print(\"No se rechaza la hipótesis nula: No hay diferencias significativas en la duración promedio de los viajes.\")\n"
   ]
  },
  {
   "cell_type": "markdown",
   "id": "0d6509c1",
   "metadata": {},
   "source": [
    "<div class=\"alert alert-block alert-danger\">\n",
    "\n",
    "<b>Comentario del revisor #2</b> <a class=\"tocSkip\"></a>\n",
    "\n",
    "En este caso estamos obteniendo que `No se puede realizar la prueba T-Student porque una de las muestras está vacía.\n",
    "`\n",
    "Esto es debido a que no realizas una mascara correctamente.\n",
    "\n",
    "Lo que queremos enmascarar es por un lado una nueva variable que agrupe por los dias malos y nos de el resultado de la columna `duration_seconds`. En tu caso utilizas Rain cuando deberia ser `Good` o `Bad`\n",
    "\n",
    "Y por el otro una variable que agrupe por los dias buenos y nos de el resultado de la columna `duration_seconds.`\n",
    "\n",
    "</div>\n",
    "<div class=\"alert alert-block alert-danger\">\n",
    "<b>Comentario del revisor #2</b> <a class=\"tocSkip\"></a>\n",
    "\n",
    "El parametro equal_var es muy importante para este tipo de pruebas ya que le estamos indicando si las varianzas para cada conjunto son diferentes (False). Si fueran iguales (True), puede que el resultado cambie, ya que se calcula de forma diferente. Mas que nada cuando la distribucion de las muestras son desiguales (como en este caso).\n",
    "Por esto es importante, cuando realizamos esta prueba (t student). Confirmar si las varianzas son iguales o no para ambos conjuntos. Para esto se realizan **pruebas estadisticas** (como **levene**) para identificar si son iguales o no las varianzas.\n",
    "\n",
    "Al realizarla ajusta el parametro si fuera necesario .</div>\n",
    "<div class=\"alert alert-block alert-success\">\n",
    "\n",
    "<b>Comentario del revisor #3</b> <a class=\"tocSkip\"></a>\n",
    "\n",
    "Corregido, excelente.</div>\n",
    "\n",
    "\n",
    "<div class=\"alert alert-block alert-warning\">\n",
    "<b>Comentario del revisor</b> <a class=\"tocSkip\"></a>\n",
    "\n",
    "Simplemente a modo de consejo, cuando realizamos este tipo de prueba, los outliers pueden modificarla. Por lo que generalmente se recomienda tratarlos antes  de realizar la prueba.\n",
    "</div>"
   ]
  },
  {
   "cell_type": "markdown",
   "id": "86348a6d",
   "metadata": {},
   "source": [
    "### Hipótesis Nula (H0):\n",
    "La duración promedio de los viajes en taxi los sábados no difiere entre días con buen clima (`Good`) y días con mal clima (`Bad`). Es decir, la condición climática no tiene un efecto significativo en la duración de los viajes en taxi.\n",
    "\n",
    "### Hipótesis Alternativa (H1):\n",
    "La duración promedio de los viajes en taxi los sábados cambia significativamente entre días con buen clima (`Good`) y días con mal clima (`Bad`). Es decir, las condiciones climáticas afectan de manera significativa la duración de los viajes en taxi.\n",
    "\n",
    "### Conclusión Basada en los Resultados:\n",
    "El resultado de la prueba T-Student muestra un **p-valor de 7.39e-08**, el cual es mucho menor que el nivel de significancia alfa (0.05). Además, el estadístico T obtenido es de **-5.427**, indicando una diferencia significativa entre la duración promedio de los viajes en días con buen y mal clima.\n",
    "\n",
    "Por lo tanto, **rechazamos la hipótesis nula** y aceptamos la hipótesis alternativa. Esto significa que **la duración promedio de los viajes en taxi cambia significativamente** entre los sábados con buen clima y los sábados con mal clima. En particular, se observa que los viajes en días con mal clima (`Bad`) tienen una duración promedio **más larga** (2409.23 segundos) en comparación con los viajes en días con buen clima (`Good`) (2032.25 segundos).\n",
    "\n",
    "### Interpretación:\n",
    "El mal clima puede afectar las condiciones del tráfico, lo que conduce a un aumento en el tiempo promedio de los viajes en taxi. Esto podría deberse a factores como:\n",
    "- Menor visibilidad.\n",
    "- Condiciones de la carretera adversas.\n",
    "- Mayor congestión vehicular.\n",
    "\n",
    "Estos resultados sugieren que es importante que las compañías de taxis y los pasajeros consideren las condiciones climáticas al planificar los viajes, ya que el mal clima puede alargar el tiempo de trayecto significativamente."
   ]
  },
  {
   "cell_type": "markdown",
   "id": "ebe1629c",
   "metadata": {},
   "source": [
    "## Conclusiones Generales"
   ]
  },
  {
   "cell_type": "markdown",
   "id": "02fcf6d3",
   "metadata": {},
   "source": [
    "Conclusión General del Análisis\n",
    "\n",
    "\n",
    "Distribución de Viajes por Compañía de Taxis:\n",
    "\n",
    "\n",
    "La compañía Flash Cab domina el mercado con una gran cantidad de viajes, superando significativamente a otras compañías. Esto sugiere que hay una alta concentración de viajes en pocas compañías grandes, mientras que muchas otras tienen un número muy bajo de viajes.\n",
    "\n",
    "Análisis de Barrios con Mayor Finalización de Viajes:\n",
    "\n",
    "\n",
    "El barrio Loop es la ubicación con mayor promedio de finalización de viajes, lo que sugiere que es un punto de alta demanda, probablemente debido a su actividad comercial y centralidad en Chicago. Otros barrios como River North y Streeterville también son populares, indicando una alta concentración de viajes en las áreas centrales y turísticas.\n",
    "Prueba de Hipótesis sobre la Duración de Viajes en Días Lluviosos:\n",
    "\n",
    "No se pudo llevar a cabo la prueba de hipótesis debido a la falta de datos específicos sobre días lluviosos. La categoría de mal clima (Bad) parece englobar condiciones no especificadas, lo que hace imposible la comparación.\n",
    "Se concluye que el dataset no es adecuado para evaluar el impacto de la lluvia en la duración de los viajes, ya que falta información meteorológica detallada.\n",
    "\n",
    "\n",
    "Recomendaciones\n",
    "\n",
    "\n",
    "Revisión y recolección de datos adicionales: Se debería recolectar más datos de días con condiciones climáticas específicas (lluvia, nieve, etc.) para un análisis más robusto.\n",
    "\n",
    "Análisis de otras variables: Considerar el impacto de otras condiciones climáticas (viento, neblina, etc.) o características del tráfico (hora del día, día festivo) para evaluar su influencia en la duración de los viajes.\n",
    "\n",
    "Segmentación de compañías de taxis: Investigar por qué algunas compañías dominan el mercado y otras tienen un número tan bajo de viajes. Esto podría ayudar a identificar oportunidades para equilibrar la oferta y la demanda.\n",
    "\n",
    "Estas conclusiones ayudarán a orientar futuros análisis y permitirán obtener información más precisa para la toma de decisiones."
   ]
  }
 ],
 "metadata": {
  "ExecuteTimeLog": [
   {
    "duration": 20,
    "start_time": "2024-10-04T06:40:14.540Z"
   },
   {
    "duration": 751,
    "start_time": "2024-10-04T06:40:19.605Z"
   },
   {
    "duration": 10,
    "start_time": "2024-10-04T06:40:20.358Z"
   },
   {
    "duration": 15,
    "start_time": "2024-10-04T06:40:20.370Z"
   },
   {
    "duration": 15,
    "start_time": "2024-10-04T06:40:20.386Z"
   },
   {
    "duration": 26,
    "start_time": "2024-10-04T06:40:20.424Z"
   },
   {
    "duration": 18,
    "start_time": "2024-10-04T06:40:20.451Z"
   },
   {
    "duration": 11,
    "start_time": "2024-10-04T06:40:20.471Z"
   },
   {
    "duration": 1013,
    "start_time": "2024-10-04T06:40:20.484Z"
   },
   {
    "duration": 221,
    "start_time": "2024-10-04T06:40:21.499Z"
   },
   {
    "duration": 14,
    "start_time": "2024-10-04T06:40:21.722Z"
   },
   {
    "duration": 13,
    "start_time": "2024-10-04T06:40:58.157Z"
   },
   {
    "duration": 9,
    "start_time": "2024-10-04T15:58:39.655Z"
   },
   {
    "duration": 3,
    "start_time": "2024-10-04T15:59:10.888Z"
   },
   {
    "duration": 5,
    "start_time": "2024-10-04T16:00:21.294Z"
   },
   {
    "duration": 2625,
    "start_time": "2024-10-06T20:41:05.425Z"
   },
   {
    "duration": 563,
    "start_time": "2024-10-06T20:41:08.052Z"
   },
   {
    "duration": 0,
    "start_time": "2024-10-06T20:41:08.617Z"
   },
   {
    "duration": 0,
    "start_time": "2024-10-06T20:41:08.618Z"
   },
   {
    "duration": 0,
    "start_time": "2024-10-06T20:41:08.620Z"
   },
   {
    "duration": 0,
    "start_time": "2024-10-06T20:41:08.620Z"
   },
   {
    "duration": 0,
    "start_time": "2024-10-06T20:41:08.621Z"
   },
   {
    "duration": 0,
    "start_time": "2024-10-06T20:41:08.622Z"
   },
   {
    "duration": 0,
    "start_time": "2024-10-06T20:41:08.624Z"
   },
   {
    "duration": 21,
    "start_time": "2024-10-06T20:42:52.397Z"
   },
   {
    "duration": 11,
    "start_time": "2024-10-06T20:42:53.320Z"
   },
   {
    "duration": 11,
    "start_time": "2024-10-06T20:42:55.268Z"
   },
   {
    "duration": 14,
    "start_time": "2024-10-06T20:42:55.281Z"
   },
   {
    "duration": 15,
    "start_time": "2024-10-06T20:42:55.297Z"
   },
   {
    "duration": 148,
    "start_time": "2024-10-06T20:42:55.313Z"
   },
   {
    "duration": 10,
    "start_time": "2024-10-06T20:42:55.463Z"
   },
   {
    "duration": 1254,
    "start_time": "2024-10-06T20:42:55.475Z"
   },
   {
    "duration": 1398,
    "start_time": "2024-10-06T20:42:56.731Z"
   },
   {
    "duration": 17,
    "start_time": "2024-10-06T20:42:58.131Z"
   },
   {
    "duration": 4,
    "start_time": "2024-10-06T20:44:45.787Z"
   },
   {
    "duration": 59,
    "start_time": "2024-10-06T20:44:45.793Z"
   },
   {
    "duration": 0,
    "start_time": "2024-10-06T20:44:45.854Z"
   },
   {
    "duration": 0,
    "start_time": "2024-10-06T20:44:45.855Z"
   },
   {
    "duration": 0,
    "start_time": "2024-10-06T20:44:45.857Z"
   },
   {
    "duration": 0,
    "start_time": "2024-10-06T20:44:45.858Z"
   },
   {
    "duration": 0,
    "start_time": "2024-10-06T20:44:45.859Z"
   },
   {
    "duration": 0,
    "start_time": "2024-10-06T20:44:45.860Z"
   },
   {
    "duration": 0,
    "start_time": "2024-10-06T20:44:45.861Z"
   },
   {
    "duration": 6,
    "start_time": "2024-10-06T20:45:15.958Z"
   },
   {
    "duration": 779,
    "start_time": "2024-10-06T21:12:30.698Z"
   },
   {
    "duration": 13,
    "start_time": "2024-10-06T21:12:31.480Z"
   },
   {
    "duration": 14,
    "start_time": "2024-10-06T21:12:31.495Z"
   },
   {
    "duration": 24,
    "start_time": "2024-10-06T21:12:31.511Z"
   },
   {
    "duration": 26,
    "start_time": "2024-10-06T21:12:31.538Z"
   },
   {
    "duration": 10,
    "start_time": "2024-10-06T21:12:31.565Z"
   },
   {
    "duration": 363,
    "start_time": "2024-10-06T21:12:31.577Z"
   },
   {
    "duration": 247,
    "start_time": "2024-10-06T21:12:31.942Z"
   },
   {
    "duration": 68,
    "start_time": "2024-10-06T21:12:32.191Z"
   }
  ],
  "kernelspec": {
   "display_name": "Python 3 (ipykernel)",
   "language": "python",
   "name": "python3"
  },
  "language_info": {
   "codemirror_mode": {
    "name": "ipython",
    "version": 3
   },
   "file_extension": ".py",
   "mimetype": "text/x-python",
   "name": "python",
   "nbconvert_exporter": "python",
   "pygments_lexer": "ipython3",
   "version": "3.9.19"
  },
  "toc": {
   "base_numbering": 1,
   "nav_menu": {},
   "number_sections": true,
   "sideBar": true,
   "skip_h1_title": true,
   "title_cell": "Table of Contents",
   "title_sidebar": "Contents",
   "toc_cell": false,
   "toc_position": {},
   "toc_section_display": true,
   "toc_window_display": false
  }
 },
 "nbformat": 4,
 "nbformat_minor": 5
}
